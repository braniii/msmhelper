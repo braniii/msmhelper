{
 "cells": [
  {
   "cell_type": "markdown",
   "id": "1abf0f99-2164-4082-9186-e4f1aaab28ae",
   "metadata": {},
   "source": [
    "# Performanc Benchmark to PyEMMA\n",
    "In the following comparison we want to show that the performance of msmhelper is competitive to that of PyEMMA. It should be kept in mind that while both packages focus on the construction and analysis of MSM, PyEMMA has much more functionality and both packages approach Markov State modeling with a different philosophy. Nevertheless, in the following we will compare a few functions that both packages provide. We will ignore the linear algebra methods, since both packages rely on numpy.\n",
    "\n",
    "In general, performance depends very much on the architecture and Python/package versions. Therefore, it is best to look at the benchmark results on your own device. To do this, you can simply download the Jupyter Notebook from the icon above."
   ]
  },
  {
   "cell_type": "code",
   "execution_count": 1,
   "id": "6b951a36-8c95-4234-901d-10adddc09e2c",
   "metadata": {},
   "outputs": [],
   "source": [
    "# importing packages needed for benchmark\n",
    "import msmhelper as mh\n",
    "import pyemma\n",
    "import numpy as np\n",
    "\n",
    "def generate_traj(n_steps, n_states):\n",
    "    \"\"\"Generate random state trajectory.\"\"\"\n",
    "    return np.random.randint(low=1, high=n_states + 1, size=n_steps)"
   ]
  },
  {
   "cell_type": "markdown",
   "id": "1d1a5b92-cacf-40d0-b46e-1def90e9497d",
   "metadata": {},
   "source": [
    "## Estimation of a Markov State Model"
   ]
  },
  {
   "cell_type": "code",
   "execution_count": 2,
   "id": "5fee1ab9-8081-4ef9-8ca2-fd42d52d83cd",
   "metadata": {},
   "outputs": [],
   "source": [
    "# create random trajectory\n",
    "n_steps = int(1e5)\n",
    "n_states = 10\n",
    "lagtime = 100"
   ]
  },
  {
   "cell_type": "markdown",
   "id": "00bbb539-cabd-40c5-8b64-3275f18f06df",
   "metadata": {},
   "source": [
    "Using numba the source code gets compiled just-in-time on the first usage. Hence, we need to run the code once in advance to measure the performance without compilation time. For further informations see the [numba docs](https://numba.readthedocs.io/en/stable/user/5minguide.html#how-to-measure-the-performance-of-numba)."
   ]
  },
  {
   "cell_type": "code",
   "execution_count": 3,
   "id": "f9f64c9e-eacf-456f-a868-3b88fe42be7d",
   "metadata": {},
   "outputs": [],
   "source": [
    "traj = generate_traj(n_steps, n_states),\n",
    "_ = mh.msm.estimate_markov_model(traj, lagtime=lagtime)\n",
    "_ = mh.msm.implied_timescales(traj, [lagtime], ntimescales=2)\n",
    "_ = mh.msm.ck_test(traj, [lagtime], tmax=1000)\n",
    "_ = mh.msm.timescales.propagate_MCMC(traj, lagtime, 100)"
   ]
  },
  {
   "cell_type": "markdown",
   "id": "2e84e882-f506-49aa-b864-3851ea5a1fdc",
   "metadata": {},
   "source": [
    "In the following, we compare the determination of the Markov State Model from a numpy state trajectory."
   ]
  },
  {
   "cell_type": "code",
   "execution_count": 4,
   "id": "fe7f5700-d062-4a0b-a656-bf0d3f8763d5",
   "metadata": {},
   "outputs": [
    {
     "name": "stdout",
     "output_type": "stream",
     "text": [
      "2.62 ms ± 418 µs per loop (mean ± std. dev. of 10 runs, 1 loop each)\n"
     ]
    }
   ],
   "source": [
    "%%timeit -r 10 -n 1 traj = generate_traj(n_steps, n_states)\n",
    "mh.msm.estimate_markov_model(traj, lagtime=lagtime)"
   ]
  },
  {
   "cell_type": "code",
   "execution_count": 5,
   "id": "1208abb2-5029-42b3-b707-8bb465c6c98c",
   "metadata": {},
   "outputs": [
    {
     "name": "stdout",
     "output_type": "stream",
     "text": [
      "7.54 ms ± 1e+03 µs per loop (mean ± std. dev. of 10 runs, 1 loop each)\n"
     ]
    }
   ],
   "source": [
    "%%timeit -r 10 -n 1 traj = generate_traj(n_steps, n_states)\n",
    "pyemma.msm.estimate_markov_model(traj, lag=lagtime, reversible=False)"
   ]
  },
  {
   "cell_type": "code",
   "execution_count": 6,
   "id": "14efbf42-7598-43a5-908a-872320357807",
   "metadata": {},
   "outputs": [
    {
     "name": "stdout",
     "output_type": "stream",
     "text": [
      "7.71 ms ± 1.28 ms per loop (mean ± std. dev. of 10 runs, 1 loop each)\n"
     ]
    }
   ],
   "source": [
    "%%timeit -r 10 -n 1 traj = generate_traj(n_steps, n_states)\n",
    "pyemma.msm.estimate_markov_model(traj, lag=lagtime)"
   ]
  },
  {
   "cell_type": "markdown",
   "id": "e27725b8-adf7-4d0b-8f7b-05fb4570ba52",
   "metadata": {},
   "source": [
    "If you have already formatted the trajectory, msmhelper is even significantly faster again."
   ]
  },
  {
   "cell_type": "code",
   "execution_count": 7,
   "id": "a8a413a6-2f51-4bd6-99cf-7d0cb332b4fe",
   "metadata": {},
   "outputs": [
    {
     "name": "stdout",
     "output_type": "stream",
     "text": [
      "339 µs ± 92.8 µs per loop (mean ± std. dev. of 10 runs, 1 loop each)\n"
     ]
    }
   ],
   "source": [
    "%%timeit -r 10 -n 1 traj = mh.StateTraj(generate_traj(n_steps, n_states))\n",
    "traj.estimate_markov_model(lagtime=lagtime)"
   ]
  },
  {
   "cell_type": "markdown",
   "id": "a01b66c5-3ed6-4449-9bd7-dbec6c98dd3f",
   "metadata": {},
   "source": [
    "Increasing the number of states and steps we find:"
   ]
  },
  {
   "cell_type": "code",
   "execution_count": 8,
   "id": "fcc1f931-9488-4c43-8c83-3118aeae28fe",
   "metadata": {},
   "outputs": [],
   "source": [
    "# create random trajectory with more states and frames\n",
    "n_steps = int(1e7)\n",
    "n_states = 100"
   ]
  },
  {
   "cell_type": "code",
   "execution_count": 9,
   "id": "546b71e3-5b41-4e4b-82af-f834012c3209",
   "metadata": {},
   "outputs": [
    {
     "name": "stdout",
     "output_type": "stream",
     "text": [
      "16.6 ms ± 1.68 ms per loop (mean ± std. dev. of 5 runs, 1 loop each)\n"
     ]
    }
   ],
   "source": [
    "%%timeit -r 5 -n 1 traj = mh.StateTraj(generate_traj(n_steps, n_states))\n",
    "traj.estimate_markov_model(lagtime=lagtime)"
   ]
  },
  {
   "cell_type": "code",
   "execution_count": 10,
   "id": "a20f0cb5-4add-48bf-bece-150ea62e5f63",
   "metadata": {},
   "outputs": [
    {
     "name": "stdout",
     "output_type": "stream",
     "text": [
      "357 ms ± 7.12 ms per loop (mean ± std. dev. of 5 runs, 1 loop each)\n"
     ]
    }
   ],
   "source": [
    "%%timeit -r 5 -n 1 traj = generate_traj(n_steps, n_states)\n",
    "mh.msm.estimate_markov_model(traj, lagtime=lagtime)"
   ]
  },
  {
   "cell_type": "code",
   "execution_count": 11,
   "id": "249ffc26-ae2a-4b6f-b0bb-602efca1e6e7",
   "metadata": {},
   "outputs": [
    {
     "name": "stdout",
     "output_type": "stream",
     "text": [
      "770 ms ± 28.6 ms per loop (mean ± std. dev. of 5 runs, 1 loop each)\n"
     ]
    }
   ],
   "source": [
    "%%timeit -r 5 -n 1 traj = generate_traj(n_steps, n_states)\n",
    "pyemma.msm.estimate_markov_model(traj, lag=lagtime, reversible=False)"
   ]
  },
  {
   "cell_type": "markdown",
   "id": "f46fef32-34f6-4374-a8cd-0f06803f8bd7",
   "metadata": {},
   "source": [
    "## Estimation of Implied Timescales\n",
    "\n",
    "An important property of Markov State models are the implied time scales. These correspond to the $i$-th eigenvalue $\\lambda_i$ of the transition matrix $T_{ij}$\n",
    "and are defined by\n",
    "$$t_i = - \\frac{t_\\text{lag}}{\\log(\\lambda_i)}$$"
   ]
  },
  {
   "cell_type": "code",
   "execution_count": 12,
   "id": "2d99d6f4-cc3a-4a26-a818-32d42359def9",
   "metadata": {},
   "outputs": [
    {
     "name": "stdout",
     "output_type": "stream",
     "text": [
      "lagtimes: 1, 2, 3, 4, 5, 6, 8, 11, 14, 18, 23, 29, 37, 48, 61, 78, 100\n"
     ]
    }
   ],
   "source": [
    "# create random trajectory\n",
    "n_steps = int(1e5)\n",
    "n_states = 10\n",
    "n_timescales = 2\n",
    "\n",
    "# creating lagtimes\n",
    "lagtimes = np.unique(np.geomspace(1, 100, 20).astype(int))\n",
    "print(f'lagtimes: {\", \".join(lagtimes.astype(str))}')\n",
    "\n",
    "# catch warnings, because random state trajectory has mainly complex eigenvalues\n",
    "import warnings"
   ]
  },
  {
   "cell_type": "code",
   "execution_count": 13,
   "id": "29abe213-5d13-49a6-af86-d0eb532d16b9",
   "metadata": {},
   "outputs": [
    {
     "name": "stdout",
     "output_type": "stream",
     "text": [
      "16.1 ms ± 6.39 ms per loop (mean ± std. dev. of 5 runs, 1 loop each)\n"
     ]
    }
   ],
   "source": [
    "%%timeit -r 5 -n 1 traj = generate_traj(n_steps, n_states)\n",
    "with warnings.catch_warnings():\n",
    "    warnings.simplefilter('ignore')\n",
    "    mh.msm.implied_timescales(traj, lagtimes, ntimescales=n_timescales)"
   ]
  },
  {
   "cell_type": "code",
   "execution_count": 14,
   "id": "531583d2-73fd-4bd4-af0f-5122767e44dd",
   "metadata": {},
   "outputs": [
    {
     "name": "stdout",
     "output_type": "stream",
     "text": [
      "145 ms ± 15.5 ms per loop (mean ± std. dev. of 5 runs, 1 loop each)\n"
     ]
    }
   ],
   "source": [
    "%%timeit -r 5 -n 1 traj = generate_traj(n_steps, n_states)\n",
    "with warnings.catch_warnings():\n",
    "    warnings.simplefilter('ignore')\n",
    "    pyemma.msm.its(\n",
    "        traj,\n",
    "        lagtimes,\n",
    "        nits=n_timescales,\n",
    "        show_progress=False,\n",
    "        reversible=False,\n",
    "        n_jobs=1,  # keeping this to None it does not work with PyEMMA 2.5.12\n",
    "    ).timescales"
   ]
  },
  {
   "cell_type": "markdown",
   "id": "db9cd190-ea64-42fc-a8c5-c72b3626b030",
   "metadata": {},
   "source": [
    "## Chapman-Kolmogorov Test\n",
    "The most important test to check the Markovianity of a MSM is the Chapman-Kolmogorov test which visualizes the agreement of the Chapman-Kolomogorov equation\n",
    "$$T(\\tau n) = T^n(\\tau)$$\n",
    "The following comparison is not easy to interpret, because both packages do not determine the same thing. However, it should be sufficient to get a feeling."
   ]
  },
  {
   "cell_type": "code",
   "execution_count": 15,
   "id": "572fdffd-e871-410b-8fed-6caf9038e9f1",
   "metadata": {},
   "outputs": [
    {
     "name": "stdout",
     "output_type": "stream",
     "text": [
      "38.9 ms ± 1.78 ms per loop (mean ± std. dev. of 5 runs, 1 loop each)\n"
     ]
    }
   ],
   "source": [
    "%%timeit -r 5 -n 1 traj = generate_traj(n_steps, n_states)\n",
    "mh.msm.ck_test(traj, lagtimes, tmax=1000)"
   ]
  },
  {
   "cell_type": "code",
   "execution_count": 16,
   "id": "42621854-47fc-4635-8929-06feca1c0157",
   "metadata": {},
   "outputs": [
    {
     "name": "stdout",
     "output_type": "stream",
     "text": [
      "1.72 s ± 21.6 ms per loop (mean ± std. dev. of 5 runs, 1 loop each)\n"
     ]
    }
   ],
   "source": [
    "%%timeit -r 5 -n 1 traj = generate_traj(n_steps, n_states)\n",
    "for lagtime in lagtimes:\n",
    "    msm = pyemma.msm.estimate_markov_model(traj, lag=lagtime)\n",
    "    msm.cktest(2, n_jobs=1, show_progress=False)"
   ]
  },
  {
   "cell_type": "markdown",
   "id": "64027a67-7625-42c6-b15e-436dda5382c1",
   "metadata": {},
   "source": [
    "## Propagating a Markov Chain Monte Carlo\n",
    "We now consider the propagation of a Markov chain Monte Carlo, since this plays a central role in the package msmhelper to estimate the time scales."
   ]
  },
  {
   "cell_type": "code",
   "execution_count": 17,
   "id": "9fe00729-d4a8-41e0-9e2f-4af24b8a98d6",
   "metadata": {},
   "outputs": [],
   "source": [
    "# decrease number of steps to speed up msm estimation\n",
    "n_steps = int(1e4)\n",
    "n_states = 10\n",
    "\n",
    "# number to propagate MCMC\n",
    "n_mcmc_steps = int(1e6)"
   ]
  },
  {
   "cell_type": "code",
   "execution_count": 18,
   "id": "4bc020f8-c0d2-4bda-b4e5-aa3e76d3ac2f",
   "metadata": {},
   "outputs": [
    {
     "name": "stdout",
     "output_type": "stream",
     "text": [
      "42 ms ± 1.94 ms per loop (mean ± std. dev. of 5 runs, 1 loop each)\n"
     ]
    }
   ],
   "source": [
    "%%timeit -r 5 -n 1 traj = mh.StateTraj(generate_traj(n_steps, n_states))\n",
    "mcmc = mh.msm.timescales.propagate_MCMC(traj, lagtime, n_mcmc_steps)"
   ]
  },
  {
   "cell_type": "code",
   "execution_count": 19,
   "id": "3089d6fa-29f8-41d9-aa30-13d22242f2c6",
   "metadata": {},
   "outputs": [
    {
     "name": "stdout",
     "output_type": "stream",
     "text": [
      "2.96 s ± 63.2 ms per loop (mean ± std. dev. of 5 runs, 1 loop each)\n"
     ]
    }
   ],
   "source": [
    "%%timeit -r 5 -n 1 msm = pyemma.msm.estimate_markov_model(generate_traj(n_steps, n_states), lag=lagtime)\n",
    "msm.generate_traj(n_mcmc_steps)"
   ]
  }
 ],
 "metadata": {
  "kernelspec": {
   "display_name": "Python 3 (ipykernel)",
   "language": "python",
   "name": "python3"
  },
  "language_info": {
   "codemirror_mode": {
    "name": "ipython",
    "version": 3
   },
   "file_extension": ".py",
   "mimetype": "text/x-python",
   "name": "python",
   "nbconvert_exporter": "python",
   "pygments_lexer": "ipython3",
   "version": "3.10.8"
  }
 },
 "nbformat": 4,
 "nbformat_minor": 5
}
