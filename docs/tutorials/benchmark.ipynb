{
 "cells": [
  {
   "cell_type": "code",
   "execution_count": 1,
   "id": "6b951a36-8c95-4234-901d-10adddc09e2c",
   "metadata": {},
   "outputs": [],
   "source": [
    "import msmhelper as mh\n",
    "import pyemma\n",
    "import numpy as np\n",
    "\n",
    "# create random trajectory\n",
    "N = int(1e7)\n",
    "lagtime = 100"
   ]
  },
  {
   "cell_type": "code",
   "execution_count": 2,
   "id": "a8a413a6-2f51-4bd6-99cf-7d0cb332b4fe",
   "metadata": {},
   "outputs": [
    {
     "name": "stdout",
     "output_type": "stream",
     "text": [
      "The slowest run took 124.89 times longer than the fastest. This could mean that an intermediate result is being cached.\n",
      "455 ms ± 1.26 s per loop (mean ± std. dev. of 10 runs, 1 loop each)\n"
     ]
    }
   ],
   "source": [
    "%%timeit -r 10 -n 1 traj = mh.StateTraj(np.random.randint(11, size=N))\n",
    "traj.estimate_markov_model(lagtime=lagtime)"
   ]
  },
  {
   "cell_type": "code",
   "execution_count": 3,
   "id": "fe7f5700-d062-4a0b-a656-bf0d3f8763d5",
   "metadata": {},
   "outputs": [
    {
     "name": "stdout",
     "output_type": "stream",
     "text": [
      "642 ms ± 20.6 ms per loop (mean ± std. dev. of 10 runs, 1 loop each)\n"
     ]
    }
   ],
   "source": [
    "%%timeit -r 10 -n 1 traj = np.random.randint(11, size=N)\n",
    "mh.msm.estimate_markov_model(traj, lagtime=lagtime)"
   ]
  },
  {
   "cell_type": "code",
   "execution_count": 4,
   "id": "1208abb2-5029-42b3-b707-8bb465c6c98c",
   "metadata": {},
   "outputs": [
    {
     "name": "stdout",
     "output_type": "stream",
     "text": [
      "1.62 s ± 28.2 ms per loop (mean ± std. dev. of 10 runs, 1 loop each)\n"
     ]
    }
   ],
   "source": [
    "%%timeit -r 10 -n 1 traj = np.random.randint(11, size=N)\n",
    "pyemma.msm.estimate_markov_model(traj, lag=lagtime, reversible=False)"
   ]
  },
  {
   "cell_type": "code",
   "execution_count": 5,
   "id": "14efbf42-7598-43a5-908a-872320357807",
   "metadata": {},
   "outputs": [
    {
     "name": "stdout",
     "output_type": "stream",
     "text": [
      "1.59 s ± 18.9 ms per loop (mean ± std. dev. of 10 runs, 1 loop each)\n"
     ]
    }
   ],
   "source": [
    "%%timeit -r 10 -n 1 traj = np.random.randint(11, size=N)\n",
    "pyemma.msm.estimate_markov_model(traj, lag=lagtime)"
   ]
  },
  {
   "cell_type": "code",
   "execution_count": null,
   "id": "46e11549-d973-4144-9cf8-1004dc4fc624",
   "metadata": {},
   "outputs": [],
   "source": []
  }
 ],
 "metadata": {
  "kernelspec": {
   "display_name": "Python 3 (ipykernel)",
   "language": "python",
   "name": "python3"
  },
  "language_info": {
   "codemirror_mode": {
    "name": "ipython",
    "version": 3
   },
   "file_extension": ".py",
   "mimetype": "text/x-python",
   "name": "python",
   "nbconvert_exporter": "python",
   "pygments_lexer": "ipython3",
   "version": "3.10.8"
  }
 },
 "nbformat": 4,
 "nbformat_minor": 5
}
