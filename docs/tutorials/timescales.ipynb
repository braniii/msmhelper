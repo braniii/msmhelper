{
 "cells": [
  {
   "cell_type": "markdown",
   "id": "5b68510b-6800-431b-a41f-343706ce1b12",
   "metadata": {},
   "source": [
    "# Waiting Times and Pathways of Markov Models"
   ]
  },
  {
   "cell_type": "code",
   "execution_count": null,
   "id": "404b027f-1d55-486c-a5cd-9629cb861504",
   "metadata": {},
   "outputs": [],
   "source": []
  }
 ],
 "metadata": {
  "kernelspec": {
   "display_name": "Python 3 (ipykernel)",
   "language": "python",
   "name": "python3"
  },
  "language_info": {
   "codemirror_mode": {
    "name": "ipython",
    "version": 3
   },
   "file_extension": ".py",
   "mimetype": "text/x-python",
   "name": "python",
   "nbconvert_exporter": "python",
   "pygments_lexer": "ipython3",
   "version": "3.10.8"
  }
 },
 "nbformat": 4,
 "nbformat_minor": 5
}
