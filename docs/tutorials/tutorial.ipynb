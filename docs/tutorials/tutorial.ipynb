{
 "cells": [
  {
   "cell_type": "markdown",
   "id": "e5db535c-27ea-46c7-9fac-a1afecef7947",
   "metadata": {},
   "source": [
    "# Getting Started with Markov State Modeling\n",
    "\n",
    "## Introducation\n",
    "Markov state models (MSMs) are used to analyze and understand the kinetics of protein conformational dynamics based on molecular dynamics (MD) simulations. In this context, MSMs are a type of statistical model that describe the transitions between different conformations (often referred to as states) over time by means of memoryless jumps. MD simulations provide atomistic details about the movement of the protein over time, but the resulting data can be difficult to analyze and interpret, especially when the protein undergoes complex conformational changes. Therefore, MSMs can be used to reduce the complex MD data to a simpler, more manageable representation of the protein's conformational dynamics, which allows understanding of the biological process of interest.\n",
    "\n",
    "In an MSM, the states are defined as discrete clusters of protein conformations and the transitions between states are modeled as a Markov process. This means that the probability of transition from one state to another depends only on the current state and not on the history of previous states. The resulting MSM can be used to calculate various quantities, such as the rate constants for transitions between states and the equilibrium populations of each state.\n",
    "\n",
    "Overall, MSMs are a useful tool for studying the kinetics of protein conformational changes in MD simulations, providing a simplified representation of complex protein dynamics that can be used to gain insight into the underlying mechanisms of protein behavior.\n",
    "\n",
    "## Theoretical Background\n",
    "Markov state models are mathematical models that describe the transition probabilities between discrete states in a system of discrete time steps. The basic equation for a Markov state model is the following\n",
    "\n",
    "$$P(x_t = j | x_{t-1} = i) = T_{ij}$$\n",
    "\n",
    "where $T_{ij}$ is the transition probability from state $i$ to state $j$ at time $t$, and $P(x_t = j | x_{t-1} = i)$ is the probability of the system being in state $j$ at time $t$, given that it was in state $i$ at time $t-1$.\n",
    "\n",
    "The transition probabilities are usually estimated from time-series data, such as molecular dynamics simulations, and can be organized into a transition matrix $T$\n",
    "\n",
    "$$T = \\{T_{ij}\\}$$\n",
    "\n",
    "where $T_{ij}$ is the $(i, j)$-th element of the matrix. The transition matrix defines the probability of moving from any one state to any other state in a single time step.\n",
    "\n",
    "The stationary distribution, $\\pi$, is a probability distribution over the states that satisfies the following equation\n",
    "\n",
    "$$\\pi T = \\pi$$\n",
    "\n",
    "where the left-hand side is the distribution after one time step and the right-hand side is the distribution at the current time step. The stationary distribution represents the long-term behavior of the system and can be used to calculate various quantities, such as the equilibrium populations of each state.\n",
    "\n",
    "The following website can be recommended as a good introduction to the topic:\n",
    "[http://docs.markovmodel.org/](http://docs.markovmodel.org/)"
   ]
  },
  {
   "cell_type": "code",
   "execution_count": 7,
   "id": "47443565-256e-4227-9189-e9942304560e",
   "metadata": {},
   "outputs": [],
   "source": [
    "import msmhelper as mh\n",
    "import numpy as np\n",
    "\n",
    "# create random trajectory\n",
    "traj = np.random.randint(4, size=10000)"
   ]
  },
  {
   "cell_type": "markdown",
   "id": "0a92e3c3-fa6e-4300-8e74-68812f2f0669",
   "metadata": {},
   "source": [
    "Create a trajectory instance"
   ]
  },
  {
   "cell_type": "code",
   "execution_count": 8,
   "id": "8148fc3e-a3fe-41d8-8500-b741d0789cfb",
   "metadata": {},
   "outputs": [],
   "source": [
    "traj = mh.StateTraj(traj)"
   ]
  },
  {
   "cell_type": "code",
   "execution_count": 9,
   "id": "dd1695d7-8cda-4a14-b283-b8d9bd941dc2",
   "metadata": {},
   "outputs": [
    {
     "data": {
      "text/plain": [
       "StateTraj([array([1, 3, 0, ..., 3, 2, 3])])"
      ]
     },
     "execution_count": 9,
     "metadata": {},
     "output_type": "execute_result"
    }
   ],
   "source": [
    "traj"
   ]
  },
  {
   "cell_type": "code",
   "execution_count": 10,
   "id": "53256dcf-83ec-466e-8c45-aff936385289",
   "metadata": {},
   "outputs": [
    {
     "data": {
      "text/plain": [
       "4"
      ]
     },
     "execution_count": 10,
     "metadata": {},
     "output_type": "execute_result"
    }
   ],
   "source": [
    "traj.nstates"
   ]
  },
  {
   "cell_type": "code",
   "execution_count": 11,
   "id": "84d8bc24-02c6-43b6-9592-5666cae4e056",
   "metadata": {},
   "outputs": [
    {
     "data": {
      "text/plain": [
       "array([0, 1, 2, 3])"
      ]
     },
     "execution_count": 11,
     "metadata": {},
     "output_type": "execute_result"
    }
   ],
   "source": [
    "traj.states"
   ]
  },
  {
   "cell_type": "code",
   "execution_count": 12,
   "id": "0da02644-91b3-46b9-9ccf-a3bc136596d1",
   "metadata": {},
   "outputs": [
    {
     "data": {
      "text/plain": [
       "(array([[0.2522881 , 0.24990052, 0.25507362, 0.24273776],\n",
       "        [0.24714679, 0.25462416, 0.24872098, 0.24950807],\n",
       "        [0.24598716, 0.26083467, 0.24598716, 0.24719101],\n",
       "        [0.26019576, 0.25081566, 0.24755302, 0.24143556]]),\n",
       " array([0, 1, 2, 3]))"
      ]
     },
     "execution_count": 12,
     "metadata": {},
     "output_type": "execute_result"
    }
   ],
   "source": [
    "# estimate Markov state model\n",
    "traj.estimate_markov_model(2)"
   ]
  }
 ],
 "metadata": {
  "kernelspec": {
   "display_name": "Python 3 (ipykernel)",
   "language": "python",
   "name": "python3"
  },
  "language_info": {
   "codemirror_mode": {
    "name": "ipython",
    "version": 3
   },
   "file_extension": ".py",
   "mimetype": "text/x-python",
   "name": "python",
   "nbconvert_exporter": "python",
   "pygments_lexer": "ipython3",
   "version": "3.10.8"
  }
 },
 "nbformat": 4,
 "nbformat_minor": 5
}
