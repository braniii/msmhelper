{
 "cells": [
  {
   "cell_type": "markdown",
   "id": "893689c1-4ec9-4ec5-a9a4-895cf4aeabb3",
   "metadata": {},
   "source": [
    "# Estimation of a Markov State Model"
   ]
  },
  {
   "cell_type": "code",
   "execution_count": 17,
   "id": "2bd816c3-aa6d-41d8-984c-f3d9f1a2f4cd",
   "metadata": {},
   "outputs": [],
   "source": [
    "from msmhelper.utils import datasets\n",
    "traj = datasets.hummer15_4state(0.2, 0.1, nsteps=int(1e5))"
   ]
  },
  {
   "cell_type": "code",
   "execution_count": 18,
   "id": "5ff6111a-d8f5-46ff-89f9-214aa162d27f",
   "metadata": {},
   "outputs": [],
   "source": [
    "import msmhelper as mh"
   ]
  },
  {
   "cell_type": "code",
   "execution_count": 19,
   "id": "eb27be4f-42e1-4403-831b-bb6d8ef08645",
   "metadata": {},
   "outputs": [
    {
     "data": {
      "text/plain": [
       "array([[0.80382329, 0.19617671, 0.        , 0.        ],\n",
       "       [0.19999208, 0.70056654, 0.09944139, 0.        ],\n",
       "       [0.        , 0.10133635, 0.69918043, 0.19948322],\n",
       "       [0.        , 0.        , 0.20373577, 0.79626423]])"
      ]
     },
     "execution_count": 19,
     "metadata": {},
     "output_type": "execute_result"
    }
   ],
   "source": [
    "lagtime = 1\n",
    "tmat, states = mh.msm.estimate_markov_model(traj, lagtime)\n",
    "tmat"
   ]
  },
  {
   "cell_type": "code",
   "execution_count": null,
   "id": "7feb2787-978a-4eef-9ef9-3497b7333674",
   "metadata": {},
   "outputs": [],
   "source": []
  }
 ],
 "metadata": {
  "kernelspec": {
   "display_name": "Python 3 (ipykernel)",
   "language": "python",
   "name": "python3"
  },
  "language_info": {
   "codemirror_mode": {
    "name": "ipython",
    "version": 3
   },
   "file_extension": ".py",
   "mimetype": "text/x-python",
   "name": "python",
   "nbconvert_exporter": "python",
   "pygments_lexer": "ipython3",
   "version": "3.10.8"
  }
 },
 "nbformat": 4,
 "nbformat_minor": 5
}
