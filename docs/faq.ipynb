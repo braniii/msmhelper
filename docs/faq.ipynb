{
 "cells": [
  {
   "cell_type": "markdown",
   "id": "56bced34-3ac3-4fb4-b98f-ee13f07b3b3a",
   "metadata": {},
   "source": [
    "## Frequently Asked Questions\n",
    "\n",
    "### How is the performance compared to PyEmma?\n",
    "This depends heavily on the task, but in general it should be comparable or even faster, see [Benchmark](../tutorials/benchmark/).\n",
    "\n",
    "### Feature X is missing\n",
    "If you are looking for a feature complete package, I would recommand you to take a look at [pyemma](https://github.com/markovmodel/PyEMMA) and [msmbuilder](https://github.com/msmbuilder/msmbuilder). If you believe that a crucial functionality/method is missing, feel free to [open an issue](https://github.com/moldyn/msmhelper/issues)."
   ]
  }
 ],
 "metadata": {
  "kernelspec": {
   "display_name": "Python 3 (ipykernel)",
   "language": "python",
   "name": "python3"
  },
  "language_info": {
   "codemirror_mode": {
    "name": "ipython",
    "version": 3
   },
   "file_extension": ".py",
   "mimetype": "text/x-python",
   "name": "python",
   "nbconvert_exporter": "python",
   "pygments_lexer": "ipython3",
   "version": "3.10.8"
  }
 },
 "nbformat": 4,
 "nbformat_minor": 5
}
